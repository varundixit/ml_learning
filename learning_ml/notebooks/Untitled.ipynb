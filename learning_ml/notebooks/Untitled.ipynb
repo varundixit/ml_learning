{
 "cells": [
  {
   "cell_type": "code",
   "execution_count": 1,
   "id": "121f168b-aa67-4518-b02a-0ef64b4b6a25",
   "metadata": {},
   "outputs": [
    {
     "name": "stdout",
     "output_type": "stream",
     "text": [
      "Hello, ML World!\n",
      "1 5\n",
      "Varun\n",
      "1 2 3 4 5 \n",
      "Sum: 12\n"
     ]
    }
   ],
   "source": [
    "# Python basics\n",
    "print(\"Hello, ML World!\")\n",
    "\n",
    "# Variables\n",
    "x = 10\n",
    "y = 3.5\n",
    "name = \"Varun\"\n",
    "\n",
    "# Lists\n",
    "numbers = [1, 2, 3, 4, 5]\n",
    "print(numbers[0], numbers[-1])  # First and last elements\n",
    "\n",
    "# Dictionaries\n",
    "person = {\"name\": \"Varun\", \"role\": \"BI\"}\n",
    "print(person[\"name\"])\n",
    "\n",
    "# Loops\n",
    "for i in numbers:\n",
    "    print(i, end=\" \")\n",
    "\n",
    "# Functions\n",
    "def add(a, b):\n",
    "    return a + b\n",
    "\n",
    "print(\"\\nSum:\", add(5, 7))\n"
   ]
  },
  {
   "cell_type": "code",
   "execution_count": 2,
   "id": "b4ae1ecd-94d0-44ea-86f8-a4ba209269e7",
   "metadata": {},
   "outputs": [
    {
     "name": "stdout",
     "output_type": "stream",
     "text": [
      "      Name  Age  Score\n",
      "0    Alice   25     85\n",
      "1      Bob   30     90\n",
      "2  Charlie   35     88\n",
      "      Name  Age  Score\n",
      "0    Alice   25     85\n",
      "1      Bob   30     90\n",
      "2  Charlie   35     88\n",
      "        Age      Score\n",
      "count   3.0   3.000000\n",
      "mean   30.0  87.666667\n",
      "std     5.0   2.516611\n",
      "min    25.0  85.000000\n",
      "25%    27.5  86.500000\n",
      "50%    30.0  88.000000\n",
      "75%    32.5  89.000000\n",
      "max    35.0  90.000000\n"
     ]
    }
   ],
   "source": [
    "import pandas as pd\n",
    "\n",
    "# Create a small DataFrame\n",
    "data = {\n",
    "    \"Name\": [\"Alice\", \"Bob\", \"Charlie\"],\n",
    "    \"Age\": [25, 30, 35],\n",
    "    \"Score\": [85, 90, 88]\n",
    "}\n",
    "\n",
    "df = pd.DataFrame(data)\n",
    "print(df)\n",
    "\n",
    "# View top rows\n",
    "print(df.head())\n",
    "\n",
    "# Summary stats\n",
    "print(df.describe())\n"
   ]
  },
  {
   "cell_type": "code",
   "execution_count": 3,
   "id": "172867b9-d086-4f86-950b-103e253d2647",
   "metadata": {},
   "outputs": [
    {
     "name": "stdout",
     "output_type": "stream",
     "text": [
      "   PassengerId  Pclass                                          Name     Sex  \\\n",
      "0          892       3                              Kelly, Mr. James    male   \n",
      "1          893       3              Wilkes, Mrs. James (Ellen Needs)  female   \n",
      "2          894       2                     Myles, Mr. Thomas Francis    male   \n",
      "3          895       3                              Wirz, Mr. Albert    male   \n",
      "4          896       3  Hirvonen, Mrs. Alexander (Helga E Lindqvist)  female   \n",
      "\n",
      "    Age  SibSp  Parch   Ticket     Fare Cabin Embarked  \n",
      "0  34.5      0      0   330911   7.8292   NaN        Q  \n",
      "1  47.0      1      0   363272   7.0000   NaN        S  \n",
      "2  62.0      0      0   240276   9.6875   NaN        Q  \n",
      "3  27.0      0      0   315154   8.6625   NaN        S  \n",
      "4  22.0      1      1  3101298  12.2875   NaN        S  \n"
     ]
    }
   ],
   "source": [
    "# Reading from D: drive (make sure the CSV exists)\n",
    "df_csv = pd.read_csv(r\"D:\\garbage\\following_chatgpt\\git\\datasets\\titanic\\test.csv\")  # Replace with your file name\n",
    "print(df_csv.head())\n"
   ]
  },
  {
   "cell_type": "code",
   "execution_count": 21,
   "id": "0689109f-84da-419d-8259-1b12a21d4b29",
   "metadata": {},
   "outputs": [
    {
     "name": "stdout",
     "output_type": "stream",
     "text": [
      "        Sex  Pclass\n",
      "0      male       3\n",
      "1    female       3\n",
      "2      male       2\n",
      "3      male       3\n",
      "4    female       3\n",
      "..      ...     ...\n",
      "413    male       3\n",
      "414  female       1\n",
      "415    male       3\n",
      "416    male       3\n",
      "417    male       3\n",
      "\n",
      "[418 rows x 2 columns]\n"
     ]
    }
   ],
   "source": [
    "# Select one column\n",
    "#print(df_csv[\"Name\"])\n",
    "\n",
    "# Filter rows where Age > 50\n",
    "#print(df_csv[df_csv[\"Age\"]>60])\n",
    "\n",
    "# Select specific columns\n",
    "print(df_csv[[\"Sex\", \"Pclass\"]])\n"
   ]
  },
  {
   "cell_type": "code",
   "execution_count": 23,
   "id": "9a391a3d-44c1-4216-babc-c3b0db6c2b6d",
   "metadata": {},
   "outputs": [
    {
     "name": "stdout",
     "output_type": "stream",
     "text": [
      "                                                  Name     Sex  Pclass\n",
      "12       Snyder, Mrs. John Pillsbury (Nelle Stevenson)  female       1\n",
      "14   Chaffee, Mrs. Herbert Fuller (Carrie Constance...  female       1\n",
      "22                Flegenheim, Mrs. Alfred (Antoinette)  female       1\n",
      "24     Ryerson, Mrs. Arthur Larned (Emily Maria Borie)  female       1\n",
      "26                        Ostby, Miss. Helene Ragnhild  female       1\n",
      "44    Kimball, Mrs. Edwin Nelson Jr (Gertrude Parsons)  female       1\n",
      "48     Bucknell, Mrs. William Robert (Emma Eliza Ward)  female       1\n",
      "53                          Fortune, Miss. Ethel Flora  female       1\n",
      "59                         Chaudanson, Miss. Victorine  female       1\n",
      "69                 Fortune, Mrs. Mark (Mary McDougald)  female       1\n",
      "74                                Geiger, Miss. Amalie  female       1\n",
      "77   Cornell, Mrs. Robert Clifford (Malvina Helen L...  female       1\n",
      "92                Davidson, Mrs. Thornton (Orian Hays)  female       1\n",
      "96   Cavendish, Mrs. Tyrell William (Julia Florence...  female       1\n",
      "100  Stengel, Mrs. Charles Emil Henry (Annie May Mo...  female       1\n",
      "112                           Evans, Miss. Edith Corse  female       1\n",
      "114             Straus, Mrs. Isidor (Rosalie Ida Blun)  female       1\n",
      "122                    Schabert, Mrs. Paul (Emma Mock)  female       1\n",
      "141                               Daniels, Miss. Sarah  female       1\n",
      "150              Earnshaw, Mrs. Boulton (Olive Potter)  female       1\n",
      "156                                  Bird, Miss. Ellen  female       1\n",
      "168  Cassebeer, Mrs. Henry Arthur Jr (Eleanor Genev...  female       1\n",
      "179  Compton, Mrs. Alexander Taylor (Mary Eliza Ing...  female       1\n",
      "182  Marvin, Mrs. Daniel Warner (Mary Graham Carmic...  female       1\n",
      "184  Douglas, Mrs. Frederick Charles (Mary Helene B...  female       1\n",
      "208                      Rosenbaum, Miss. Edith Louise  female       1\n",
      "218       Widener, Mrs. George Dunton (Eleanor Elkins)  female       1\n",
      "224   Candee, Mrs. Edward (Helen Churchill Hungerford)  female       1\n",
      "231                           Willard, Miss. Constance  female       1\n",
      "239        Douglas, Mrs. Walter Donald (Mahala Dutton)  female       1\n",
      "240          Lindstrom, Mrs. Carl Johan (Sigrid Posse)  female       1\n",
      "272      Clark, Mrs. Walter Miller (Virginia McDowell)  female       1\n",
      "305  Crosby, Mrs. Edward Gifford (Catherine Elizabe...  female       1\n",
      "314              White, Mrs. John Stuart (Ella Holmes)  female       1\n",
      "324                             Kreuchen, Miss. Emilie  female       1\n",
      "343  Cardeza, Mrs. James Warburton Martinez (Charlo...  female       1\n",
      "350       Greenfield, Mrs. Leo David (Blanche Strouse)  female       1\n",
      "356     Brown, Mrs. John Murray (Caroline Lane Lamson)  female       1\n",
      "364       Harder, Mrs. George Achilles (Dorothy Annan)  female       1\n",
      "368            Gibson, Mrs. Leonard (Pauline C Boeson)  female       1\n",
      "371                          Wilson, Miss. Helen Alice  female       1\n",
      "374              Dodge, Mrs. Washington (Ruth Vidaver)  female       1\n",
      "375                           Bowen, Miss. Grace Scott  female       1\n",
      "391     Lines, Mrs. Ernest H (Elizabeth Lindsey James)  female       1\n",
      "395     Smith, Mrs. Lucien Philip (Mary Eloise Hughes)  female       1\n",
      "397  Frolicher-Stehli, Mrs. Maxmillian (Margaretha ...  female       1\n",
      "400                            Bonnell, Miss. Caroline  female       1\n",
      "402                     Gibson, Miss. Dorothy Winifred  female       1\n",
      "411    Minahan, Mrs. William Edward (Lillian E Thorpe)  female       1\n",
      "414                       Oliva y Ocana, Dona. Fermina  female       1\n"
     ]
    }
   ],
   "source": [
    "female_first_class = df_csv[(df_csv[\"Sex\"] == \"female\") & (df_csv[\"Pclass\"] == 1)]\n",
    "print(female_first_class[[\"Name\", \"Sex\", \"Pclass\"]])\n"
   ]
  },
  {
   "cell_type": "code",
   "execution_count": 25,
   "id": "ed7d5ad1-ab1d-4ff5-bc77-6d2b8c0dd648",
   "metadata": {},
   "outputs": [
    {
     "name": "stdout",
     "output_type": "stream",
     "text": [
      "                                                  Name  Age\n",
      "10                                    Ilieff, Mr. Ylio  NaN\n",
      "22                Flegenheim, Mrs. Alfred (Antoinette)  NaN\n",
      "29                                   Samaan, Mr. Elias  NaN\n",
      "33   Johnston, Mrs. Andrew G (Elizabeth Lily\" Watson)\"  NaN\n",
      "36                                 Roth, Miss. Sarah A  NaN\n",
      "..                                                 ...  ...\n",
      "408                    Riordan, Miss. Johanna Hannah\"\"  NaN\n",
      "410                             Naughton, Miss. Hannah  NaN\n",
      "413                                 Spector, Mr. Woolf  NaN\n",
      "416                                Ware, Mr. Frederick  NaN\n",
      "417                           Peter, Master. Michael J  NaN\n",
      "\n",
      "[86 rows x 2 columns]\n"
     ]
    }
   ],
   "source": [
    "missing_age = df_csv[df_csv[\"Age\"].isna()]\n",
    "print(missing_age[[\"Name\", \"Age\"]])\n"
   ]
  },
  {
   "cell_type": "code",
   "execution_count": 26,
   "id": "08b7b74d-9bf0-47ab-9d9d-329a08c9d88b",
   "metadata": {},
   "outputs": [
    {
     "name": "stdout",
     "output_type": "stream",
     "text": [
      "                                           Name   Sex  Pclass   Age\n",
      "0                              Kelly, Mr. James  male       3  34.5\n",
      "3                              Wirz, Mr. Albert  male       3  27.0\n",
      "25                      Robins, Mr. Alexander A  male       3  50.0\n",
      "40                             Karun, Mr. Franz  male       3  39.0\n",
      "42                        Goldsmith, Mr. Nathan  male       3  41.0\n",
      "56                              Cor, Mr. Bartol  male       3  35.0\n",
      "97                    Makinen, Mr. Kalle Edvard  male       3  29.0\n",
      "99                 Nancarrow, Mr. William Henry  male       3  33.0\n",
      "103      Johansson Palmquist, Mr. Oskar Leander  male       3  26.0\n",
      "105                   Holthen, Mr. Johan Martin  male       3  28.0\n",
      "123                     Carver, Mr. Alfred John  male       3  28.0\n",
      "130                     Spinner, Mr. Henry John  male       3  32.0\n",
      "134                      Dintcheff, Mr. Valtcho  male       3  43.0\n",
      "136                   Zakarian, Mr. Mapriededer  male       3  26.5\n",
      "139              Goodwin, Mr. Charles Frederick  male       3  40.0\n",
      "145                   Vander Planke, Mr. Julius  male       3  31.0\n",
      "152                          Storey, Mr. Thomas  male       3  60.5\n",
      "171                         Zakarian, Mr. Ortin  male       3  27.0\n",
      "174  Asplund, Mr. Carl Oscar Vilhelm Gustafsson  male       3  40.0\n",
      "195           Karlsson, Mr. Julius Konrad Eugen  male       3  33.0\n",
      "210                 Andersen, Mr. Albert Karvin  male       3  32.0\n",
      "228                   Everett, Mr. Thomas James  male       3  40.5\n",
      "254                         Wenzel, Mr. Linhart  male       3  32.5\n",
      "257                       Niklasson, Mr. Samuel  male       3  28.0\n",
      "260        de Messemaeker, Mr. Guillaume Joseph  male       3  36.5\n",
      "285                         Dennis, Mr. William  male       3  36.0\n",
      "294                   Wittevrongel, Mr. Camille  male       3  36.0\n",
      "295                        Angheloff, Mr. Minko  male       3  26.0\n",
      "299                         Johansson, Mr. Nils  male       3  29.0\n",
      "300                   Olsson, Mr. Oscar Wilhelm  male       3  32.0\n",
      "318                   Jonsson, Mr. Nils Hilding  male       3  27.0\n",
      "320                 Andersson, Mr. Johan Samuel  male       3  26.0\n",
      "334                               Cor, Mr. Ivan  male       3  27.0\n",
      "337                           Elias, Mr. Joseph  male       3  39.0\n",
      "341                  Lundstrom, Mr. Thure Edvin  male       3  32.0\n",
      "363                           Strilic, Mr. Ivan  male       3  27.0\n",
      "381                           Foley, Mr. Joseph  male       3  26.0\n",
      "394                    Kink-Heilmann, Mr. Anton  male       3  29.0\n",
      "399                    Conlon, Mr. Thomas Henry  male       3  31.0\n",
      "415                Saether, Mr. Simon Sivertsen  male       3  38.5\n"
     ]
    }
   ],
   "source": [
    "male_third_over25 = df_csv[(df_csv[\"Sex\"] == \"male\") & (df_csv[\"Pclass\"] == 3) & (df_csv[\"Age\"] > 25)]\n",
    "print(male_third_over25[[\"Name\", \"Sex\", \"Pclass\", \"Age\"]])\n"
   ]
  },
  {
   "cell_type": "code",
   "execution_count": 27,
   "id": "37c9f909-84b2-436e-aac6-3a466199e525",
   "metadata": {},
   "outputs": [
    {
     "name": "stdout",
     "output_type": "stream",
     "text": [
      "                                                  Name      Fare\n",
      "343  Cardeza, Mrs. James Warburton Martinez (Charlo...  512.3292\n",
      "69                 Fortune, Mrs. Mark (Mary McDougald)  263.0000\n",
      "53                          Fortune, Miss. Ethel Flora  263.0000\n",
      "59                         Chaudanson, Miss. Victorine  262.3750\n",
      "64                         Ryerson, Master. John Borie  262.3750\n",
      "375                           Bowen, Miss. Grace Scott  262.3750\n",
      "142                         Ryerson, Mr. Arthur Larned  262.3750\n",
      "24     Ryerson, Mrs. Arthur Larned (Emily Maria Borie)  262.3750\n",
      "184  Douglas, Mrs. Frederick Charles (Mary Helene B...  247.5208\n",
      "202                             Astor, Col. John Jacob  227.5250\n"
     ]
    }
   ],
   "source": [
    "sorted_by_fare = df_csv.sort_values(by=\"Fare\", ascending=False)\n",
    "print(sorted_by_fare[[\"Name\", \"Fare\"]].head(10))  # Top 10 fares\n"
   ]
  }
 ],
 "metadata": {
  "kernelspec": {
   "display_name": "Python (ml_env)",
   "language": "python",
   "name": "ml_env"
  },
  "language_info": {
   "codemirror_mode": {
    "name": "ipython",
    "version": 3
   },
   "file_extension": ".py",
   "mimetype": "text/x-python",
   "name": "python",
   "nbconvert_exporter": "python",
   "pygments_lexer": "ipython3",
   "version": "3.11.5"
  }
 },
 "nbformat": 4,
 "nbformat_minor": 5
}
